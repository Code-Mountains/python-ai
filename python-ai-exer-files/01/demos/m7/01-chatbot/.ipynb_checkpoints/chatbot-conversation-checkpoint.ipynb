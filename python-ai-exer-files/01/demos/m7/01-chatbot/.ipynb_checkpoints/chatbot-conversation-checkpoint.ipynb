{
 "cells": [
  {
   "cell_type": "markdown",
   "id": "c02ac822-b2ce-4a79-bdad-2bb1ec31a4f1",
   "metadata": {},
   "source": [
    "# Chatbot\n",
    "Creating a basic chatbot with the OpenAI API"
   ]
  },
  {
   "cell_type": "code",
   "execution_count": 7,
   "id": "e2065a3e-c3e1-496a-bf99-1cd7efa121f5",
   "metadata": {},
   "outputs": [],
   "source": [
    "# !pip install openai"
   ]
  },
  {
   "cell_type": "code",
   "execution_count": 8,
   "id": "989c2bfb-6ae5-4f61-bc43-3850c5b66428",
   "metadata": {},
   "outputs": [],
   "source": [
    "import openai\n",
    "import os\n",
    "import json"
   ]
  },
  {
   "cell_type": "code",
   "execution_count": 9,
   "id": "1f955318-bdf2-4f0d-95fa-5c15fec3cd87",
   "metadata": {},
   "outputs": [],
   "source": [
    "key_location = '/Users/xavier/github/xmorera/ps-generative-ai-developing-applications-python-openai/key/genaikey.txt'\n",
    "\n",
    "with open(key_location, 'r') as file:\n",
    "    key = file.readline().strip()"
   ]
  },
  {
   "cell_type": "code",
   "execution_count": 10,
   "id": "88b50b0d-f996-418b-9821-3b180fc049c0",
   "metadata": {},
   "outputs": [],
   "source": [
    "openai.api_key = key"
   ]
  },
  {
   "cell_type": "code",
   "execution_count": 11,
   "id": "bf6aa292-1dc3-45b8-a4fa-8bba6924b4f3",
   "metadata": {},
   "outputs": [],
   "source": [
    "chat_messages = []"
   ]
  },
  {
   "cell_type": "code",
   "execution_count": 12,
   "id": "0ba3af38-4bca-4349-87f9-05c318e5c0f1",
   "metadata": {},
   "outputs": [],
   "source": [
    "def process_chat_request(prompt):\n",
    "    \"\"\"Make a request to the OpenAI API\"\"\"\n",
    "    chat_messages.append({\"role\": \"user\",\"content\": prompt})\n",
    "    \n",
    "    response = openai.ChatCompletion.create(\n",
    "    model=\"gpt-3.5-turbo\",\n",
    "    messages = chat_messages,\n",
    "    temperature=0.7\n",
    "    )\n",
    "    # Append the response to messages\n",
    "    chat_messages.append({\"role\": \"assistant\",\"content\": response[\"choices\"][0][\"message\"][\"content\"]})\n",
    "     \n",
    "    # print(json.dumps(chat_messages, indent=2))\n",
    "    # Extract the generated labels from the API response\n",
    "    return response[\"choices\"][0][\"message\"][\"content\"] "
   ]
  },
  {
   "cell_type": "code",
   "execution_count": 13,
   "id": "d2930154-e0aa-447f-858a-b0123ffe5bdd",
   "metadata": {},
   "outputs": [
    {
     "name": "stdout",
     "output_type": "stream",
     "text": [
      "Hello and welcome to the Good Advice Chatbot! How can I help you?\n"
     ]
    }
   ],
   "source": [
    "print(\"Hello and welcome to the Good Advice Chatbot! How can I help you?\")"
   ]
  },
  {
   "cell_type": "code",
   "execution_count": 14,
   "id": "0a0900db-a62a-49e8-947d-4a025f46fca7",
   "metadata": {},
   "outputs": [],
   "source": [
    "system_message = \"You are a helpful assistant\""
   ]
  },
  {
   "cell_type": "code",
   "execution_count": 15,
   "id": "58615c03-f19e-4c77-acfa-aaef4fd7f751",
   "metadata": {},
   "outputs": [],
   "source": [
    "chat_messages = [{\"role\": \"system\", \"content\": system_message}]"
   ]
  },
  {
   "cell_type": "code",
   "execution_count": null,
   "id": "4193948b-7a66-44ce-ba25-9a7da6b3843b",
   "metadata": {},
   "outputs": [
    {
     "name": "stdout",
     "output_type": "stream",
     "text": [
      "------------------------\n",
      "User: \n"
     ]
    },
    {
     "name": "stdin",
     "output_type": "stream",
     "text": [
      " I am Xavier\n"
     ]
    },
    {
     "name": "stdout",
     "output_type": "stream",
     "text": [
      "[\n",
      "  {\n",
      "    \"role\": \"system\",\n",
      "    \"content\": \"You are a helpful assistant\"\n",
      "  },\n",
      "  {\n",
      "    \"role\": \"user\",\n",
      "    \"content\": \"I am Xavier\"\n",
      "  },\n",
      "  {\n",
      "    \"role\": \"assistant\",\n",
      "    \"content\": \"Hello Xavier! How can I assist you today?\"\n",
      "  }\n",
      "]\n",
      "Chatbot: Hello Xavier! How can I assist you today?\n",
      "------------------------\n",
      "User: \n"
     ]
    },
    {
     "name": "stdin",
     "output_type": "stream",
     "text": [
      " What is my name?\n"
     ]
    },
    {
     "name": "stdout",
     "output_type": "stream",
     "text": [
      "[\n",
      "  {\n",
      "    \"role\": \"system\",\n",
      "    \"content\": \"You are a helpful assistant\"\n",
      "  },\n",
      "  {\n",
      "    \"role\": \"user\",\n",
      "    \"content\": \"I am Xavier\"\n",
      "  },\n",
      "  {\n",
      "    \"role\": \"assistant\",\n",
      "    \"content\": \"Hello Xavier! How can I assist you today?\"\n",
      "  },\n",
      "  {\n",
      "    \"role\": \"user\",\n",
      "    \"content\": \"What is my name?\"\n",
      "  },\n",
      "  {\n",
      "    \"role\": \"assistant\",\n",
      "    \"content\": \"Your name is Xavier.\"\n",
      "  }\n",
      "]\n",
      "Chatbot: Your name is Xavier.\n",
      "------------------------\n",
      "User: \n"
     ]
    },
    {
     "name": "stdin",
     "output_type": "stream",
     "text": [
      " Do I have a last name?\n"
     ]
    },
    {
     "name": "stdout",
     "output_type": "stream",
     "text": [
      "[\n",
      "  {\n",
      "    \"role\": \"system\",\n",
      "    \"content\": \"You are a helpful assistant\"\n",
      "  },\n",
      "  {\n",
      "    \"role\": \"user\",\n",
      "    \"content\": \"I am Xavier\"\n",
      "  },\n",
      "  {\n",
      "    \"role\": \"assistant\",\n",
      "    \"content\": \"Hello Xavier! How can I assist you today?\"\n",
      "  },\n",
      "  {\n",
      "    \"role\": \"user\",\n",
      "    \"content\": \"What is my name?\"\n",
      "  },\n",
      "  {\n",
      "    \"role\": \"assistant\",\n",
      "    \"content\": \"Your name is Xavier.\"\n",
      "  },\n",
      "  {\n",
      "    \"role\": \"user\",\n",
      "    \"content\": \"Do I have a last name?\"\n",
      "  },\n",
      "  {\n",
      "    \"role\": \"assistant\",\n",
      "    \"content\": \"I'm sorry, but as an AI, I don't have access to personal information about individuals unless it has been shared with me in the course of our conversation. Therefore, I don't have access to your last name. My primary function is to provide information and answer questions to the best of my knowledge and abilities. Is there anything else I can help you with?\"\n",
      "  }\n",
      "]\n",
      "Chatbot: I'm sorry, but as an AI, I don't have access to personal information about individuals unless it has been shared with me in the course of our conversation. Therefore, I don't have access to your last name. My primary function is to provide information and answer questions to the best of my knowledge and abilities. Is there anything else I can help you with?\n",
      "------------------------\n",
      "User: \n"
     ]
    }
   ],
   "source": [
    "while True:  \n",
    "    print(\"------------------------\\nUser: \")\n",
    "    user_prompt = input()\n",
    "    response = process_chat_request(user_prompt)\n",
    "    print(\"Chatbot: \" + response)\n",
    "    \n",
    "    if user_prompt.lower() in [\"bye\", \"exit\", \"quit\"]:\n",
    "            break"
   ]
  }
 ],
 "metadata": {
  "kernelspec": {
   "display_name": "Python 3 (ipykernel)",
   "language": "python",
   "name": "python3"
  },
  "language_info": {
   "codemirror_mode": {
    "name": "ipython",
    "version": 3
   },
   "file_extension": ".py",
   "mimetype": "text/x-python",
   "name": "python",
   "nbconvert_exporter": "python",
   "pygments_lexer": "ipython3",
   "version": "3.9.1"
  }
 },
 "nbformat": 4,
 "nbformat_minor": 5
}
