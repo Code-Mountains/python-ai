{
 "cells": [
  {
   "cell_type": "markdown",
   "id": "ecef18e3",
   "metadata": {},
   "source": [
    "# Text Summarization\n",
    "## Generating Concise Summaries from Longer Texts"
   ]
  },
  {
   "cell_type": "code",
   "execution_count": 4,
   "id": "7ab4a896-5c20-4068-b40b-904e62335b39",
   "metadata": {},
   "outputs": [],
   "source": [
    "# !pip install openai"
   ]
  },
  {
   "cell_type": "code",
   "execution_count": 5,
   "id": "32250b17",
   "metadata": {},
   "outputs": [],
   "source": [
    "import openai\n",
    "import os"
   ]
  },
  {
   "cell_type": "code",
   "execution_count": 6,
   "id": "6bfee36e-4553-4635-ae33-ed61cbfebda8",
   "metadata": {},
   "outputs": [],
   "source": [
    "# A recommended way to store the key is in an environment variable. For this demo, I am storing in a file.\n",
    "key_location = '/Users/xavier/github/xmorera/ps-generative-ai-developing-applications-python-openai/key/genaikey.txt'\n",
    "# key_location = 'C:\\ps-gen-openai-python\\key\\genaikey.txt'\n",
    "\n",
    "with open(key_location, 'r') as file:\n",
    "    key = file.readline().strip()"
   ]
  },
  {
   "cell_type": "code",
   "execution_count": 7,
   "id": "0515d998-4ffb-492d-8d20-0c8d1f02cdb3",
   "metadata": {},
   "outputs": [],
   "source": [
    "openai.api_key = key"
   ]
  },
  {
   "cell_type": "code",
   "execution_count": 8,
   "id": "4fb0db76",
   "metadata": {},
   "outputs": [],
   "source": [
    "def make_openai_request(prompt):\n",
    "    \"\"\"Takes a prompt as an argument and sends a POST request to the OpenAI API\"\"\"\n",
    "    response = openai.ChatCompletion.create(\n",
    "    model=\"gpt-3.5-turbo\",\n",
    "    messages=[{\"role\": \"user\",\"content\": prompt}],\n",
    "    temperature=0.7,\n",
    "    max_tokens=256\n",
    "    )\n",
    "\n",
    "    # Extract the generated labels from the API response\n",
    "    return response[\"choices\"][0][\"message\"][\"content\"].split(\"\\n\")"
   ]
  },
  {
   "cell_type": "code",
   "execution_count": 9,
   "id": "119d1191",
   "metadata": {},
   "outputs": [],
   "source": [
    "# Input text to summarize\n",
    "input_text = \"\"\"\n",
    "Electric vehicles (EVs) have long been hailed as the future of transportation, offering a cleaner and more sustainable alternative to traditional gasoline-powered cars. However, their widespread adoption has been hindered by the limitations of current battery technology, including issues related to energy density, charging time, and lifespan. In recent years, a remarkable scientific breakthrough has emerged, promising to revolutionize the EV industry and accelerate the transition to a greener and more efficient mode of transportation. This breakthrough centers around the development of quantum batteries.\n",
    "\n",
    "The Quantum Leap\n",
    "\n",
    "Quantum batteries are a new frontier in energy storage, leveraging the principles of quantum mechanics to overcome the limitations of conventional lithium-ion batteries. This breakthrough is the result of collaborative efforts from researchers and scientists worldwide, and it holds the potential to reshape the entire automotive industry and beyond.\n",
    "\n",
    "Superior Energy Density: One of the most significant advantages of quantum batteries is their exceptional energy density. Traditional lithium-ion batteries are limited by the physical properties of their materials, which restrict the amount of energy they can store. Quantum batteries, on the other hand, use quantum dots and other nanoscale structures to increase energy density significantly. This translates to longer driving ranges for EVs, reducing the need for frequent recharging and making long-distance travel more accessible.\n",
    "\n",
    "Ultra-Fast Charging: Quantum batteries are designed to charge at unprecedented speeds. Traditional EVs can take anywhere from 30 minutes to several hours to recharge fully, depending on the charger's power and battery capacity. Quantum batteries, however, can be charged in a matter of minutes, making EVs as convenient as refueling a gasoline car. This not only enhances the practicality of EVs but also reduces the strain on the electric grid.\n",
    "\n",
    "Extended Lifespan: Quantum batteries are engineered to be more durable than their lithium-ion counterparts. They exhibit minimal degradation over time, resulting in a significantly longer lifespan. This not only reduces the frequency of battery replacements but also lowers the overall environmental impact of manufacturing and disposing of batteries.\n",
    "\n",
    "Safety Improvements: Quantum batteries are inherently safer than traditional lithium-ion batteries. The risk of thermal runaway, a common concern with lithium-ion batteries, is greatly reduced due to their unique chemical composition and design. This enhances the overall safety of EVs and alleviates concerns regarding fire hazards.\n",
    "\n",
    "Sustainability: Quantum batteries are also more sustainable in terms of resource usage. While lithium-ion batteries require the extraction of rare earth materials, quantum batteries utilize more abundant and environmentally friendly materials, reducing the ecological footprint of battery production.\n",
    "\"\"\""
   ]
  },
  {
   "cell_type": "code",
   "execution_count": 10,
   "id": "5eb3af43-8d41-4da4-a222-b828d2e4838f",
   "metadata": {},
   "outputs": [
    {
     "name": "stdout",
     "output_type": "stream",
     "text": [
      "Length of input text: 2957\n"
     ]
    }
   ],
   "source": [
    "print(\"Length of input text: \" + str(len(input_text)))"
   ]
  },
  {
   "cell_type": "code",
   "execution_count": 11,
   "id": "e03ff899",
   "metadata": {},
   "outputs": [],
   "source": [
    "# Prepare the prompt for summarize (try different instructions on the summary length)\n",
    "prompt = f\"\"\"\n",
    "You will be provided with an input text delimited by ### and your task will be to summarize it.\n",
    "\n",
    "Input text: \n",
    "###\n",
    "{input_text}\n",
    "###\n",
    "\"\"\""
   ]
  },
  {
   "cell_type": "code",
   "execution_count": 12,
   "id": "f3142767-1ed3-47ee-882a-9a3000042cc3",
   "metadata": {},
   "outputs": [],
   "source": [
    "# Extract the generated summary from the API response\n",
    "summary = make_openai_request(prompt)"
   ]
  },
  {
   "cell_type": "code",
   "execution_count": 13,
   "id": "fd241be6-8bc4-4df1-88b3-2532b2398ea6",
   "metadata": {},
   "outputs": [
    {
     "name": "stdout",
     "output_type": "stream",
     "text": [
      "Generated summary:\n",
      " ['Quantum batteries are a new breakthrough in energy storage that have the potential to revolutionize the electric vehicle industry. They offer superior energy density, allowing for longer driving ranges and reducing the need for frequent recharging. Quantum batteries also charge at unprecedented speeds, making EVs as convenient as refueling a gasoline car. They have an extended lifespan and are safer than traditional lithium-ion batteries, with reduced risk of thermal runaway. Additionally, quantum batteries are more sustainable, using more abundant and environmentally friendly materials. Overall, quantum batteries have the potential to accelerate the transition to a greener and more efficient mode of transportation.']\n"
     ]
    }
   ],
   "source": [
    "# Print the generated summary\n",
    "print(\"Generated summary:\\n\", summary)"
   ]
  },
  {
   "cell_type": "code",
   "execution_count": 14,
   "id": "5f92415e-8ec9-4beb-ab09-c5f3725d0878",
   "metadata": {},
   "outputs": [
    {
     "name": "stdout",
     "output_type": "stream",
     "text": [
      "Length of summary: 725\n"
     ]
    }
   ],
   "source": [
    "print(\"Length of summary: \" + str(len(summary[0])))"
   ]
  }
 ],
 "metadata": {
  "kernelspec": {
   "display_name": "Python 3 (ipykernel)",
   "language": "python",
   "name": "python3"
  },
  "language_info": {
   "codemirror_mode": {
    "name": "ipython",
    "version": 3
   },
   "file_extension": ".py",
   "mimetype": "text/x-python",
   "name": "python",
   "nbconvert_exporter": "python",
   "pygments_lexer": "ipython3",
   "version": "3.9.1"
  }
 },
 "nbformat": 4,
 "nbformat_minor": 5
}
