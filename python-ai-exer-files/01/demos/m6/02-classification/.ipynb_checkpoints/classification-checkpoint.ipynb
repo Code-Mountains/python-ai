{
 "cells": [
  {
   "cell_type": "markdown",
   "id": "01af3848",
   "metadata": {},
   "source": [
    "# Text Classification\n",
    "## Categorizing Text into Predefined Classes"
   ]
  },
  {
   "cell_type": "code",
   "execution_count": 13,
   "id": "4eaaeccf-a9d4-4a39-97dd-43c01b4caa7d",
   "metadata": {},
   "outputs": [],
   "source": [
    "# !pip install openai"
   ]
  },
  {
   "cell_type": "code",
   "execution_count": 14,
   "id": "539dfa1e",
   "metadata": {},
   "outputs": [],
   "source": [
    "import openai\n",
    "import os"
   ]
  },
  {
   "cell_type": "code",
   "execution_count": 15,
   "id": "2e5860d6-57a3-4ec7-9c8c-e5573eb0d3b1",
   "metadata": {},
   "outputs": [],
   "source": [
    "# A recommended way to store the key is in an environment variable. For this demo, I am storing in a file.\n",
    "# key_location = '/Users/xavier/github/xmorera/ps-generative-ai-developing-applications-python-openai/key/genaikey.txt'\n",
    "key_location = '/Users/xavier/github/xmorera/ps-generative-ai-developing-applications-python-openai/key/genaikey.txt'\n",
    "\n",
    "\n",
    "with open(key_location, 'r') as file:\n",
    "    key = file.readline().strip()"
   ]
  },
  {
   "cell_type": "code",
   "execution_count": 16,
   "id": "a57e3fea-3714-4d57-9904-faad4d4631f8",
   "metadata": {},
   "outputs": [],
   "source": [
    "openai.api_key = key"
   ]
  },
  {
   "cell_type": "code",
   "execution_count": 17,
   "id": "537e02ff",
   "metadata": {},
   "outputs": [],
   "source": [
    "def make_openai_request(prompt):\n",
    "    \"\"\"Takes a prompt as an argument and sends a POST request to the OpenAI API\"\"\"\n",
    "    response = openai.ChatCompletion.create(\n",
    "    model=\"gpt-3.5-turbo\",\n",
    "    messages=[{\"role\": \"user\",\"content\": prompt}],\n",
    "    temperature=0,\n",
    "    max_tokens=256\n",
    "    )\n",
    "\n",
    "    # Extract the generated labels from the API response\n",
    "    return response[\"choices\"][0][\"message\"][\"content\"].split(\"\\n\")"
   ]
  },
  {
   "cell_type": "code",
   "execution_count": 18,
   "id": "50f7896f",
   "metadata": {},
   "outputs": [],
   "source": [
    "# List of customer feedback messages\n",
    "feedback_messages =  [\n",
    "    \"I absolutely love the product! It's even better than I hoped for.\",\n",
    "    \"The shipping took longer than expected, but the product arrived in perfect condition.\",\n",
    "    \"I'm really pleased with my purchase. It's high-quality and exactly what I wanted.\",\n",
    "    \"I had a horrible experience. The item I received looks nothing like the description.\",\n",
    "    \"The customer support team went above and beyond to help me with my problem.\",\n",
    "    \"The product is fantastic! It exceeded my expectations by a mile.\",\n",
    "    \"The packaging was a bit damaged, but the product inside was flawless.\",\n",
    "    \"I'm happy with my purchase. The quality is top-notch.\",\n",
    "    \"I'm extremely disappointed. The product doesn't match what was advertised.\",\n",
    "    \"Kudos to the customer service team for their prompt assistance in resolving my issue.\"\n",
    "]"
   ]
  },
  {
   "cell_type": "code",
   "execution_count": 19,
   "id": "776053a1",
   "metadata": {},
   "outputs": [],
   "source": [
    "# Prepare the prompt for sentiment classification\n",
    "prompt = \"\"\"\n",
    "Classify the following customer feedback into positive, neutral, or negative sentiment:\n",
    "\n",
    "\"\"\"\n",
    "for message in feedback_messages:\n",
    "    prompt += f\"- {message}\\n\""
   ]
  },
  {
   "cell_type": "code",
   "execution_count": 20,
   "id": "88a3103d-23ed-4953-9e3d-1153ae9e7c4a",
   "metadata": {},
   "outputs": [],
   "source": [
    "# Extract the generated classifications from the API response\n",
    "classifications = make_openai_request(prompt)"
   ]
  },
  {
   "cell_type": "code",
   "execution_count": 21,
   "id": "0be576c8-b2fb-46f2-89e1-1372c32dc8ba",
   "metadata": {},
   "outputs": [
    {
     "name": "stdout",
     "output_type": "stream",
     "text": [
      "1: Positive sentiment:\n",
      "2: - I absolutely love the product! It's even better than I hoped for.\n",
      "3: - I'm really pleased with my purchase. It's high-quality and exactly what I wanted.\n",
      "4: - The customer support team went above and beyond to help me with my problem.\n",
      "5: - The product is fantastic! It exceeded my expectations by a mile.\n",
      "6: - I'm happy with my purchase. The quality is top-notch.\n",
      "7: - Kudos to the customer service team for their prompt assistance in resolving my issue.\n",
      "8: \n",
      "9: Neutral sentiment:\n",
      "10: - The shipping took longer than expected, but the product arrived in perfect condition.\n",
      "11: - The packaging was a bit damaged, but the product inside was flawless.\n",
      "12: \n",
      "13: Negative sentiment:\n",
      "14: - I had a horrible experience. The item I received looks nothing like the description.\n",
      "15: - I'm extremely disappointed. The product doesn't match what was advertised.\n"
     ]
    }
   ],
   "source": [
    "# Print the generated classifications\n",
    "for i, classification in enumerate(classifications):\n",
    "    print(f\"{i + 1}: {classification}\")"
   ]
  }
 ],
 "metadata": {
  "kernelspec": {
   "display_name": "Python 3 (ipykernel)",
   "language": "python",
   "name": "python3"
  },
  "language_info": {
   "codemirror_mode": {
    "name": "ipython",
    "version": 3
   },
   "file_extension": ".py",
   "mimetype": "text/x-python",
   "name": "python",
   "nbconvert_exporter": "python",
   "pygments_lexer": "ipython3",
   "version": "3.9.1"
  }
 },
 "nbformat": 4,
 "nbformat_minor": 5
}
