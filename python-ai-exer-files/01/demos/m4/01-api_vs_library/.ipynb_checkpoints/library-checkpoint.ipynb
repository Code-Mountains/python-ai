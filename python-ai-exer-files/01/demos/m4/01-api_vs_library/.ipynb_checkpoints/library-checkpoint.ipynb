{
 "cells": [
  {
   "cell_type": "code",
   "execution_count": 18,
   "id": "aa356476-ac6f-4721-8204-a3ddd486b4a8",
   "metadata": {},
   "outputs": [],
   "source": [
    "# !pip install openai"
   ]
  },
  {
   "cell_type": "code",
   "execution_count": 19,
   "id": "a4f8e8b9-a7ac-44f7-88d4-347892cf6d35",
   "metadata": {},
   "outputs": [],
   "source": [
    "import openai\n",
    "import os"
   ]
  },
  {
   "cell_type": "code",
   "execution_count": 20,
   "id": "c45142d7-48de-49c2-b4d7-97d36264ba89",
   "metadata": {},
   "outputs": [],
   "source": [
    "key_location = '/Users/xavier/github/xmorera/ps-generative-ai-developing-applications-python-openai/key/genaikey.txt'\n",
    "\n",
    "with open(key_location, 'r') as file:\n",
    "    key = file.readline().strip()"
   ]
  },
  {
   "cell_type": "code",
   "execution_count": 21,
   "id": "dc245862-33ee-42b0-9a6b-9656eba46d6b",
   "metadata": {},
   "outputs": [],
   "source": [
    "# Set the prompt\n",
    "prompt = \"To succeed in life \""
   ]
  },
  {
   "cell_type": "code",
   "execution_count": 22,
   "id": "bd256b1f-6918-4269-b6dc-a79697a2f72c",
   "metadata": {},
   "outputs": [
    {
     "name": "stdout",
     "output_type": "stream",
     "text": [
      "Generated completion: To succeed in life 1 sees accomplishment in friendshipThis has been researched frequently over the years, and researchehave discovered that very successful individuals value friendships and help construct them. They not merely value friendships, but they also invest their important power and time to them. Whoever you\n"
     ]
    }
   ],
   "source": [
    "# Set the completion parameters\n",
    "completion_params = {\n",
    "    \"model\": \"gpt-3.5-turbo-instruct\",\n",
    "    \"prompt\": prompt,\n",
    "    \"max_tokens\": 50  # Maximum number of tokens for the completion\n",
    "}\n",
    "\n",
    "# Initialize the OpenAI API client\n",
    "openai.api_key = key\n",
    "\n",
    "# Call the OpenAI API to generate a completion\n",
    "response = openai.Completion.create(**completion_params)\n",
    "\n",
    "# Extract the generated completion from the API response\n",
    "completion_text = response.choices[0].text.strip()\n",
    "\n",
    "# Print the generated completion\n",
    "print(\"Generated completion:\", prompt + completion_text)"
   ]
  }
 ],
 "metadata": {
  "kernelspec": {
   "display_name": "Python 3 (ipykernel)",
   "language": "python",
   "name": "python3"
  },
  "language_info": {
   "codemirror_mode": {
    "name": "ipython",
    "version": 3
   },
   "file_extension": ".py",
   "mimetype": "text/x-python",
   "name": "python",
   "nbconvert_exporter": "python",
   "pygments_lexer": "ipython3",
   "version": "3.9.1"
  }
 },
 "nbformat": 4,
 "nbformat_minor": 5
}
