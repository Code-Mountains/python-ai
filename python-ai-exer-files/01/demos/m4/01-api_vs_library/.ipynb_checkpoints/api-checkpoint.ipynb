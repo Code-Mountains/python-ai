{
 "cells": [
  {
   "cell_type": "code",
   "execution_count": 21,
   "id": "40f67cda-a861-43b7-a3ed-6dec0d01ae3c",
   "metadata": {},
   "outputs": [],
   "source": [
    "# !pip install openai"
   ]
  },
  {
   "cell_type": "code",
   "execution_count": 22,
   "id": "1ccaba36-0845-4b0d-9a5f-0484e95367a6",
   "metadata": {},
   "outputs": [],
   "source": [
    "import openai\n",
    "import os\n",
    "import requests"
   ]
  },
  {
   "cell_type": "code",
   "execution_count": 23,
   "id": "61013190-b181-4c83-a150-78b3e7348d7b",
   "metadata": {},
   "outputs": [],
   "source": [
    "key_location = '/Users/xavier/github/xmorera/ps-generative-ai-developing-applications-python-openai/key/genaikey.txt'\n",
    "\n",
    "with open(key_location, 'r') as file:\n",
    "    key = file.readline().strip()"
   ]
  },
  {
   "cell_type": "code",
   "execution_count": 24,
   "id": "3bc47680-aa56-4a00-9dd0-564d05a7350b",
   "metadata": {},
   "outputs": [],
   "source": [
    "prompt = \"To succeed in life \""
   ]
  },
  {
   "cell_type": "code",
   "execution_count": 25,
   "id": "723c4081-6520-422b-a62e-858361a781d6",
   "metadata": {},
   "outputs": [
    {
     "name": "stdout",
     "output_type": "stream",
     "text": [
      "Generated completion: To succeed in life \n"
     ]
    }
   ],
   "source": [
    "# Let's use the OpenAI API\n",
    "\n",
    "# Set the endpoint for GPT-3.5 completions\n",
    "endpoint = \"https://api.openai.com/v1/engines/davinci-002/completions\"\n",
    "# Tip: try using gpt-3.5-turbo-instruct\n",
    "\n",
    "# Set the headers (include your API key for authentication)\n",
    "headers = {\n",
    "    \"Content-Type\": \"application/json\",\n",
    "    \"Authorization\": f\"Bearer {key}\"\n",
    "}\n",
    "\n",
    "# Set the parameters\n",
    "\n",
    "max_tokens = 50\n",
    "\n",
    "# Construct the request payload\n",
    "payload = {\n",
    "    \"prompt\": prompt,\n",
    "    \"max_tokens\": max_tokens\n",
    "}\n",
    "\n",
    "# Make the API request\n",
    "response = requests.post(endpoint, headers=headers, json=payload)\n",
    "\n",
    "# Extract the generated completion from the API response\n",
    "completion_text = response.json()[\"choices\"][0][\"text\"].strip()\n",
    "\n",
    "# Print the generated completion\n",
    "print(\"Generated completion:\", prompt + completion_text)"
   ]
  }
 ],
 "metadata": {
  "kernelspec": {
   "display_name": "Python 3 (ipykernel)",
   "language": "python",
   "name": "python3"
  },
  "language_info": {
   "codemirror_mode": {
    "name": "ipython",
    "version": 3
   },
   "file_extension": ".py",
   "mimetype": "text/x-python",
   "name": "python",
   "nbconvert_exporter": "python",
   "pygments_lexer": "ipython3",
   "version": "3.9.1"
  }
 },
 "nbformat": 4,
 "nbformat_minor": 5
}
