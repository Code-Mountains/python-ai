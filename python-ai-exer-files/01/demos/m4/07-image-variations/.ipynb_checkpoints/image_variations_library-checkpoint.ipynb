{
 "cells": [
  {
   "cell_type": "markdown",
   "id": "cc92b3a2-9949-4c7f-b100-b5202d10975b",
   "metadata": {},
   "source": [
    "# Image Variations"
   ]
  },
  {
   "cell_type": "code",
   "execution_count": null,
   "id": "bf8af8e6-0bac-4383-a268-9a8b947627bd",
   "metadata": {},
   "outputs": [],
   "source": [
    "import os"
   ]
  },
  {
   "cell_type": "code",
   "execution_count": null,
   "id": "31975674-8780-4ebf-b405-f49620f983f0",
   "metadata": {},
   "outputs": [],
   "source": [
    "# A recommended way to store the key is in an environment variable. For this demo, I am storing in a file.\n",
    "key_location = '/Users/xavier/github/xmorera/ps-generative-ai-developing-applications-python-openai/key/genaikey.txt'\n",
    "\n",
    "with open(key_location, 'r') as file:\n",
    "    key = file.readline().strip()"
   ]
  },
  {
   "cell_type": "code",
   "execution_count": null,
   "id": "fdf8a6f6-ff40-43d7-ab05-4720efc69bfa",
   "metadata": {},
   "outputs": [],
   "source": [
    "openai.api_key = key"
   ]
  },
  {
   "cell_type": "code",
   "execution_count": null,
   "id": "4f4c51d5-757e-4402-8ec6-9bd9871ff417",
   "metadata": {},
   "outputs": [],
   "source": [
    "library_response = openai.Image.create_variation(\n",
    "  image=open(\"./otter1.png\", \"rb\"),\n",
    "  n=1,\n",
    "  size=\"1024x1024\"\n",
    ")\n",
    "\n",
    "image_url = library_response['data'][0]['url']\n",
    "print(image_url)"
   ]
  },
  {
   "cell_type": "code",
   "execution_count": null,
   "id": "9aae914b-6ce0-412b-9e99-9514e91e5df8",
   "metadata": {},
   "outputs": [],
   "source": [
    "URL = \"https://api.openai.com/v1/images/variations\"\n",
    "\n",
    "headers = {\n",
    "    'Authorization': f'Bearer {key}'\n",
    "}\n",
    "files = {\n",
    "    \"image\": open(\"./otter1.png\", \"rb\")\n",
    "}\n",
    "data = {\n",
    "    \"n\": 2,\n",
    "    \"size\": \"1024x1024\"\n",
    "}\n",
    "\n",
    "response = requests.post(URL, headers=headers, files=files, data=data, timeout=20)\n",
    "\n",
    "if response.status_code == 200:\n",
    "    result = response.json()\n",
    "    print(json.dumps(result, indent=2))\n",
    "else:\n",
    "    print('Request failed with status code:', response.status_code)\n"
   ]
  }
 ],
 "metadata": {
  "kernelspec": {
   "display_name": "Python 3 (ipykernel)",
   "language": "python",
   "name": "python3"
  },
  "language_info": {
   "codemirror_mode": {
    "name": "ipython",
    "version": 3
   },
   "file_extension": ".py",
   "mimetype": "text/x-python",
   "name": "python",
   "nbconvert_exporter": "python",
   "pygments_lexer": "ipython3",
   "version": "3.9.1"
  }
 },
 "nbformat": 4,
 "nbformat_minor": 5
}
