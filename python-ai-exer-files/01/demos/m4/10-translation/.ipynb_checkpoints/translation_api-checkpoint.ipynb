{
 "cells": [
  {
   "cell_type": "markdown",
   "id": "dc44fc75-484a-4dd2-963c-73a9fecc7a65",
   "metadata": {},
   "source": [
    "# Translation "
   ]
  },
  {
   "cell_type": "code",
   "execution_count": null,
   "id": "997c2c60-88df-45fb-a852-27ed6c84bfab",
   "metadata": {},
   "outputs": [],
   "source": [
    "import json\n",
    "import os\n",
    "import openai\n",
    "import requests"
   ]
  },
  {
   "cell_type": "code",
   "execution_count": null,
   "id": "2f3600c1-7402-4a68-b2b7-dedf468868d5",
   "metadata": {},
   "outputs": [],
   "source": [
    "# A recommended way to store the key is in an environment variable. For this demo, I am storing in a file.\n",
    "key_location = '/Users/xavier/github/xmorera/ps-generative-ai-developing-applications-python-openai/key/genaikey.txt'\n",
    "\n",
    "with open(key_location, 'r') as file:\n",
    "    key = file.readline().strip()"
   ]
  },
  {
   "cell_type": "code",
   "execution_count": null,
   "id": "09c690c4-75c3-44f4-8c68-84be20290978",
   "metadata": {},
   "outputs": [],
   "source": [
    "openai.api_key = key"
   ]
  },
  {
   "cell_type": "code",
   "execution_count": null,
   "id": "e64f7332-f4e5-45cb-8f75-6ef60ab0633c",
   "metadata": {},
   "outputs": [],
   "source": [
    "# Python Library\n",
    "print(\"\\n\\n---Python Library---\\n\\n\")\n",
    "\n",
    "audio_file= open(\"./research/m4/demos/german_quote.mp3\", \"rb\")\n",
    "transcript = openai.Audio.translate(\"whisper-1\", audio_file)\n",
    "print(transcript)"
   ]
  },
  {
   "cell_type": "code",
   "execution_count": null,
   "id": "160d1340-d145-459a-a65b-da7c08a82728",
   "metadata": {},
   "outputs": [],
   "source": [
    "# API\n",
    "print(\"\\n\\n---API---\\n\\n\")\n",
    "\n",
    "URL = \"https://api.openai.com/v1/audio/translations\"\n",
    "\n",
    "headers = {\n",
    "    'Authorization': f'Bearer {os.getenv(\"OPENAI_API_KEY\")}'\n",
    "}\n",
    "files = {\n",
    "    \"file\": open(\"./research/m4/demos/german_quote.mp3\", \"rb\")\n",
    "}\n",
    "data = {\n",
    "    \"model\": \"whisper-1\"\n",
    "}\n",
    "\n",
    "response = requests.post(URL, headers=headers, files=files, data=data, timeout=20)\n",
    "result = response.json()\n",
    "\n",
    "if response:\n",
    "    print(json.dumps(result, indent=2))\n"
   ]
  }
 ],
 "metadata": {
  "kernelspec": {
   "display_name": "Python 3 (ipykernel)",
   "language": "python",
   "name": "python3"
  },
  "language_info": {
   "codemirror_mode": {
    "name": "ipython",
    "version": 3
   },
   "file_extension": ".py",
   "mimetype": "text/x-python",
   "name": "python",
   "nbconvert_exporter": "python",
   "pygments_lexer": "ipython3",
   "version": "3.9.1"
  }
 },
 "nbformat": 4,
 "nbformat_minor": 5
}
