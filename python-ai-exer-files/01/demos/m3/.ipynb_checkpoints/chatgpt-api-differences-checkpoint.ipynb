{
 "cells": [
  {
   "cell_type": "code",
   "execution_count": null,
   "id": "ff215d06-db01-47e5-ae0c-017b9b90c583",
   "metadata": {},
   "outputs": [],
   "source": [
    "import os\n",
    "import requests\n",
    "import json"
   ]
  },
  {
   "cell_type": "code",
   "execution_count": null,
   "id": "064d3f66-b043-43af-a417-126ef820ffb2",
   "metadata": {},
   "outputs": [],
   "source": [
    "key_location = '/Users/xavier/github/xmorera/ps-generative-ai-developing-applications-python-openai/key/genaikey.txt'\n",
    "\n",
    "with open(key_location, 'r') as file:\n",
    "    key = file.readline().strip()"
   ]
  },
  {
   "cell_type": "code",
   "execution_count": null,
   "id": "a42aea6f-3911-4343-b672-3865a8164ef6",
   "metadata": {},
   "outputs": [],
   "source": [
    "prompt = \"What is a large language model?\""
   ]
  },
  {
   "cell_type": "code",
   "execution_count": null,
   "id": "61710cff-737d-43e4-98bd-19cf8d5e377d",
   "metadata": {},
   "outputs": [],
   "source": [
    "\"\"\"Takes a prompt as an argument and sends a POST request to the OpenAI API\"\"\"\n",
    "# Use the OpenAI API  \n",
    "url = 'https://api.openai.com/v1/chat/completions'"
   ]
  },
  {
   "cell_type": "code",
   "execution_count": null,
   "id": "6d448ad4-afd3-4874-9df6-420eb795592f",
   "metadata": {},
   "outputs": [],
   "source": [
    "headers = {\n",
    "    'Content-Type': 'application/json',\n",
    "    'Authorization': f'Bearer {key}'\n",
    "}\n",
    "data = {\n",
    "    \"model\": \"gpt-3.5-turbo\",\n",
    "    \"messages\": [{\"role\": \"user\", \"content\": prompt}],\n",
    "    \"temperature\": 0.7\n",
    "}"
   ]
  },
  {
   "cell_type": "code",
   "execution_count": null,
   "id": "d6c90666-8663-44d4-b242-c1e388c950a8",
   "metadata": {},
   "outputs": [],
   "source": [
    "response = requests.post(url, headers=headers, json=data, timeout=20)\n",
    "\n",
    "if response.status_code != 200:\n",
    "    print('Request failed with status code:', response.status_code)\n",
    "    \n",
    "result = response.json()"
   ]
  },
  {
   "cell_type": "code",
   "execution_count": null,
   "id": "0ed1c165-cedb-4c7d-948b-9e85ec682259",
   "metadata": {},
   "outputs": [],
   "source": [
    "print(json.dumps(result, indent=2))"
   ]
  },
  {
   "cell_type": "code",
   "execution_count": null,
   "id": "73aeb216-255c-4060-925a-c4c0bf83eab9",
   "metadata": {},
   "outputs": [],
   "source": []
  }
 ],
 "metadata": {
  "kernelspec": {
   "display_name": "Python 3 (ipykernel)",
   "language": "python",
   "name": "python3"
  },
  "language_info": {
   "codemirror_mode": {
    "name": "ipython",
    "version": 3
   },
   "file_extension": ".py",
   "mimetype": "text/x-python",
   "name": "python",
   "nbconvert_exporter": "python",
   "pygments_lexer": "ipython3",
   "version": "3.9.1"
  }
 },
 "nbformat": 4,
 "nbformat_minor": 5
}
