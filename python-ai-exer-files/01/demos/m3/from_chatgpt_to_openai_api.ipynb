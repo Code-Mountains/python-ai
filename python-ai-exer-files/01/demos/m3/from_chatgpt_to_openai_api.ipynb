{
 "cells": [
  {
   "cell_type": "code",
   "execution_count": 1,
   "id": "ff215d06-db01-47e5-ae0c-017b9b90c583",
   "metadata": {
    "execution": {
     "iopub.execute_input": "2023-10-31T17:51:29.666492Z",
     "iopub.status.busy": "2023-10-31T17:51:29.666162Z",
     "iopub.status.idle": "2023-10-31T17:51:29.727325Z",
     "shell.execute_reply": "2023-10-31T17:51:29.726487Z"
    },
    "papermill": {
     "duration": 0.068759,
     "end_time": "2023-10-31T17:51:29.729868",
     "exception": false,
     "start_time": "2023-10-31T17:51:29.661109",
     "status": "completed"
    },
    "tags": []
   },
   "outputs": [],
   "source": [
    "import os\n",
    "import requests\n",
    "import json"
   ]
  },
  {
   "cell_type": "code",
   "execution_count": 2,
   "id": "064d3f66-b043-43af-a417-126ef820ffb2",
   "metadata": {
    "execution": {
     "iopub.execute_input": "2023-10-31T17:51:29.736349Z",
     "iopub.status.busy": "2023-10-31T17:51:29.736023Z",
     "iopub.status.idle": "2023-10-31T17:51:29.741696Z",
     "shell.execute_reply": "2023-10-31T17:51:29.740674Z"
    },
    "papermill": {
     "duration": 0.011581,
     "end_time": "2023-10-31T17:51:29.744313",
     "exception": false,
     "start_time": "2023-10-31T17:51:29.732732",
     "status": "completed"
    },
    "tags": []
   },
   "outputs": [],
   "source": [
    "key_location = '/Users/xavier/github/xmorera/ps-generative-ai-developing-applications-python-openai/key/genaikey.txt'\n",
    "\n",
    "with open(key_location, 'r') as file:\n",
    "    key = file.readline().strip()"
   ]
  },
  {
   "cell_type": "code",
   "execution_count": 3,
   "id": "a42aea6f-3911-4343-b672-3865a8164ef6",
   "metadata": {
    "execution": {
     "iopub.execute_input": "2023-10-31T17:51:29.749760Z",
     "iopub.status.busy": "2023-10-31T17:51:29.749392Z",
     "iopub.status.idle": "2023-10-31T17:51:29.753114Z",
     "shell.execute_reply": "2023-10-31T17:51:29.752434Z"
    },
    "papermill": {
     "duration": 0.00907,
     "end_time": "2023-10-31T17:51:29.755339",
     "exception": false,
     "start_time": "2023-10-31T17:51:29.746269",
     "status": "completed"
    },
    "tags": []
   },
   "outputs": [],
   "source": [
    "prompt = \"What is a Large Language Model?\""
   ]
  },
  {
   "cell_type": "code",
   "execution_count": 4,
   "id": "61710cff-737d-43e4-98bd-19cf8d5e377d",
   "metadata": {
    "execution": {
     "iopub.execute_input": "2023-10-31T17:51:29.760938Z",
     "iopub.status.busy": "2023-10-31T17:51:29.760609Z",
     "iopub.status.idle": "2023-10-31T17:51:29.764269Z",
     "shell.execute_reply": "2023-10-31T17:51:29.763639Z"
    },
    "papermill": {
     "duration": 0.008947,
     "end_time": "2023-10-31T17:51:29.766374",
     "exception": false,
     "start_time": "2023-10-31T17:51:29.757427",
     "status": "completed"
    },
    "tags": []
   },
   "outputs": [],
   "source": [
    "\"\"\"Takes a prompt as an argument and sends a POST request to the OpenAI API\"\"\"\n",
    "# Use the OpenAI API  \n",
    "url = 'https://api.openai.com/v1/chat/completions'"
   ]
  },
  {
   "cell_type": "code",
   "execution_count": 5,
   "id": "6d448ad4-afd3-4874-9df6-420eb795592f",
   "metadata": {
    "execution": {
     "iopub.execute_input": "2023-10-31T17:51:29.771292Z",
     "iopub.status.busy": "2023-10-31T17:51:29.771032Z",
     "iopub.status.idle": "2023-10-31T17:51:29.775039Z",
     "shell.execute_reply": "2023-10-31T17:51:29.774317Z"
    },
    "papermill": {
     "duration": 0.008918,
     "end_time": "2023-10-31T17:51:29.777167",
     "exception": false,
     "start_time": "2023-10-31T17:51:29.768249",
     "status": "completed"
    },
    "tags": []
   },
   "outputs": [],
   "source": [
    "headers = {\n",
    "    'Content-Type': 'application/json',\n",
    "    'Authorization': f'Bearer {key}'\n",
    "}\n",
    "data = {\n",
    "    \"model\": \"gpt-3.5-turbo\",\n",
    "    \"messages\": [{\"role\": \"user\", \"content\": prompt}],\n",
    "    \"temperature\": 0.7\n",
    "}"
   ]
  },
  {
   "cell_type": "code",
   "execution_count": 6,
   "id": "d6c90666-8663-44d4-b242-c1e388c950a8",
   "metadata": {
    "execution": {
     "iopub.execute_input": "2023-10-31T17:51:29.782066Z",
     "iopub.status.busy": "2023-10-31T17:51:29.781781Z",
     "iopub.status.idle": "2023-10-31T17:51:41.471447Z",
     "shell.execute_reply": "2023-10-31T17:51:41.470252Z"
    },
    "papermill": {
     "duration": 11.695096,
     "end_time": "2023-10-31T17:51:41.474141",
     "exception": false,
     "start_time": "2023-10-31T17:51:29.779045",
     "status": "completed"
    },
    "tags": []
   },
   "outputs": [],
   "source": [
    "response = requests.post(url, headers=headers, json=data, timeout=20)\n",
    "\n",
    "if response.status_code != 200:\n",
    "    print('Request failed with status code:', response.status_code)\n",
    "    \n",
    "result = response.json()"
   ]
  },
  {
   "cell_type": "code",
   "execution_count": 7,
   "id": "0ed1c165-cedb-4c7d-948b-9e85ec682259",
   "metadata": {
    "execution": {
     "iopub.execute_input": "2023-10-31T17:51:41.481522Z",
     "iopub.status.busy": "2023-10-31T17:51:41.481059Z",
     "iopub.status.idle": "2023-10-31T17:51:41.485782Z",
     "shell.execute_reply": "2023-10-31T17:51:41.485107Z"
    },
    "papermill": {
     "duration": 0.010438,
     "end_time": "2023-10-31T17:51:41.487888",
     "exception": false,
     "start_time": "2023-10-31T17:51:41.477450",
     "status": "completed"
    },
    "tags": []
   },
   "outputs": [
    {
     "name": "stdout",
     "output_type": "stream",
     "text": [
      "\"A Large Language Model (LLM) refers to a type of artificial intelligence model that is trained to understand and generate human-like text. It is typically built using deep learning techniques, such as transformers, and is trained on a massive amount of text data. LLMs have a vast vocabulary and can generate coherent and contextually relevant text in response to prompts or questions. These models are capable of understanding and producing text in multiple languages and can be fine-tuned for various specific tasks, such as language translation, text completion, or chatbot interactions. Some well-known examples of LLMs include OpenAI's GPT-3 and Google's BERT.\"\n"
     ]
    }
   ],
   "source": [
    "print(json.dumps(result['choices'][0]['message']['content'], indent=2))"
   ]
  }
 ],
 "metadata": {
  "kernelspec": {
   "display_name": "Python 3 (ipykernel)",
   "language": "python",
   "name": "python3"
  },
  "language_info": {
   "codemirror_mode": {
    "name": "ipython",
    "version": 3
   },
   "file_extension": ".py",
   "mimetype": "text/x-python",
   "name": "python",
   "nbconvert_exporter": "python",
   "pygments_lexer": "ipython3",
   "version": "3.9.1"
  },
  "papermill": {
   "default_parameters": {},
   "duration": 13.040716,
   "end_time": "2023-10-31T17:51:41.715175",
   "environment_variables": {},
   "exception": null,
   "input_path": "m3/from_chatgpt_to_openai_api.ipynb",
   "output_path": "m3/from_chatgpt_to_openai_api.ipynb",
   "parameters": {},
   "start_time": "2023-10-31T17:51:28.674459",
   "version": "2.4.0"
  }
 },
 "nbformat": 4,
 "nbformat_minor": 5
}