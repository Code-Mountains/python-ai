{
 "cells": [
  {
   "cell_type": "markdown",
   "id": "01af3848",
   "metadata": {},
   "source": [
    "# Setup"
   ]
  },
  {
   "cell_type": "code",
   "execution_count": 1,
   "id": "539dfa1e",
   "metadata": {},
   "outputs": [],
   "source": [
    "#pip install openai\n",
    "import openai\n",
    "import os\n",
    "\n",
    "# OpenAI API key\n",
    "openai.api_key = os.getenv(\"OPENAI_API_KEY\")"
   ]
  },
  {
   "cell_type": "code",
   "execution_count": 2,
   "id": "537e02ff",
   "metadata": {},
   "outputs": [],
   "source": [
    "def make_openai_request(prompt):\n",
    "    \"\"\"Takes a prompt as an argument and sends a POST request to the OpenAI API\"\"\"\n",
    "    response = openai.ChatCompletion.create(\n",
    "    model=\"gpt-3.5-turbo\",\n",
    "    messages=[{\"role\": \"user\",\"content\": prompt}],\n",
    "    temperature=0,\n",
    "    max_tokens=256\n",
    "    )\n",
    "\n",
    "    # Extract the generated labels from the API response\n",
    "    return response[\"choices\"][0][\"message\"][\"content\"].split(\"\\n\")"
   ]
  },
  {
   "cell_type": "markdown",
   "id": "e509a82b",
   "metadata": {},
   "source": [
    "# Text Analysis Tasks\n",
    "## Named Entity Recognition (NER): Identifying Entities Like Names, Dates, and Locations"
   ]
  },
  {
   "cell_type": "code",
   "execution_count": 3,
   "id": "50f7896f",
   "metadata": {},
   "outputs": [],
   "source": [
    "# Input text for NER\n",
    "input_text = \"\"\"\n",
    "Apple Inc. was founded by Steve Jobs and Steve Wozniak on April 1, 1976, in Cupertino, California.\n",
    "\"\"\""
   ]
  },
  {
   "cell_type": "code",
   "execution_count": 4,
   "id": "776053a1",
   "metadata": {},
   "outputs": [
    {
     "name": "stdout",
     "output_type": "stream",
     "text": [
      "['ORG: Apple Inc., Cupertino, California', 'PERSON: Steve Jobs, Steve Wozniak', 'DATE: April 1, 1976']\n"
     ]
    }
   ],
   "source": [
    "prompt= f\"\"\"\n",
    "Perform named entity recognition on the following text:\\n {input_text}\n",
    "\"\"\"\n",
    "\n",
    "# Use the OpenAI API for Named Entity Recognition (NER)\n",
    "print(make_openai_request(prompt))"
   ]
  }
 ],
 "metadata": {
  "kernelspec": {
   "display_name": "Python 3 (ipykernel)",
   "language": "python",
   "name": "python3"
  },
  "language_info": {
   "codemirror_mode": {
    "name": "ipython",
    "version": 3
   },
   "file_extension": ".py",
   "mimetype": "text/x-python",
   "name": "python",
   "nbconvert_exporter": "python",
   "pygments_lexer": "ipython3",
   "version": "3.9.7"
  }
 },
 "nbformat": 4,
 "nbformat_minor": 5
}
