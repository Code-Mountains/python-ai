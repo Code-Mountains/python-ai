{
 "cells": [
  {
   "cell_type": "markdown",
   "id": "44aed538-b536-488c-bd83-d04429cffc82",
   "metadata": {},
   "source": [
    "# Creating Images using the Python Library\n",
    "\n",
    "https://platform.openai.com/docs/guides/images/usage"
   ]
  },
  {
   "cell_type": "code",
   "execution_count": null,
   "id": "72c6c083-7616-4c89-8660-abd740ef0427",
   "metadata": {},
   "outputs": [],
   "source": [
    "import json\n",
    "import os\n",
    "import openai\n",
    "import requests"
   ]
  },
  {
   "cell_type": "code",
   "execution_count": null,
   "id": "a3be2c16-5e32-4361-98ae-9076c5adcb9c",
   "metadata": {},
   "outputs": [],
   "source": [
    "library_response = openai.Image.create(\n",
    "  prompt=\"A cute baby sea otter\",\n",
    "  n=1,\n",
    "  size=\"1024x1024\"\n",
    ")\n",
    "image_url = library_response['data'][0]['url']\n",
    "print(image_url)\n",
    "\n",
    "# API\n",
    "print(\"\\n\\n---API---\\n\\n\")\n",
    "\n",
    "def make_openai_request(url, data=None):\n",
    "    \"\"\"Takes a prompt as an argument and sends a POST request to the OpenAI API\"\"\"\n",
    "\n",
    "    headers = {\n",
    "        'Authorization': f'Bearer {os.getenv(\"OPENAI_API_KEY\")}'\n",
    "    }\n",
    "    if data:\n",
    "        headers['Content-Type'] = 'application/json'\n",
    "    response = requests.post(url, headers=headers, json=data, timeout=20)\n",
    "\n",
    "    if response.status_code == 200:\n",
    "        result = response.json()\n",
    "        return result\n",
    "    print('Request failed with status code:', response.status_code)\n",
    "    return None\n",
    "\n",
    "\n",
    "URL = \"https://api.openai.com/v1/images/generations\"\n",
    "data = {\n",
    "    \"prompt\": \"A cute baby sea otter\",\n",
    "    \"n\": 2,\n",
    "    \"size\": \"1024x1024\"\n",
    "}\n",
    "request_result = make_openai_request(URL, data)\n",
    "\n",
    "if request_result:\n",
    "    print(json.dumps(request_result, indent=2))\n"
   ]
  }
 ],
 "metadata": {
  "kernelspec": {
   "display_name": "Python 3 (ipykernel)",
   "language": "python",
   "name": "python3"
  },
  "language_info": {
   "codemirror_mode": {
    "name": "ipython",
    "version": 3
   },
   "file_extension": ".py",
   "mimetype": "text/x-python",
   "name": "python",
   "nbconvert_exporter": "python",
   "pygments_lexer": "ipython3",
   "version": "3.9.1"
  }
 },
 "nbformat": 4,
 "nbformat_minor": 5
}
