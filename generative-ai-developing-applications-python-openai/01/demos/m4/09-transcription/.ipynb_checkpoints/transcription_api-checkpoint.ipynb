{
 "cells": [
  {
   "cell_type": "markdown",
   "id": "ba747273-a8c7-4650-b89c-24e1a0f9d8bd",
   "metadata": {},
   "source": [
    "# Transcription"
   ]
  },
  {
   "cell_type": "code",
   "execution_count": null,
   "id": "af1d526b-003e-41f3-a730-429c132ad1b0",
   "metadata": {},
   "outputs": [],
   "source": [
    "import json\n",
    "import os\n",
    "import openai\n",
    "import requests"
   ]
  },
  {
   "cell_type": "code",
   "execution_count": null,
   "id": "0f076ab6-c89e-48a5-a278-25cfe6f2a01f",
   "metadata": {},
   "outputs": [],
   "source": [
    "# A recommended way to store the key is in an environment variable. For this demo, I am storing in a file.\n",
    "key_location = '/Users/xavier/github/xmorera/ps-generative-ai-developing-applications-python-openai/key/genaikey.txt'\n",
    "\n",
    "with open(key_location, 'r') as file:\n",
    "    key = file.readline().strip()"
   ]
  },
  {
   "cell_type": "code",
   "execution_count": null,
   "id": "0f30bfbd-24bf-49d0-a618-66234bb67994",
   "metadata": {},
   "outputs": [],
   "source": [
    "open_ai.api_key = key"
   ]
  },
  {
   "cell_type": "code",
   "execution_count": null,
   "id": "212f61c3-39f1-4462-b516-570ede6570f5",
   "metadata": {},
   "outputs": [],
   "source": [
    "# Python Library\n",
    "print(\"\\n\\n---Python Library---\\n\\n\")\n",
    "\n",
    "audio_file= open(\"./research/m4/demos/quote.mp3\", \"rb\")\n",
    "transcript = openai.Audio.transcribe(\"whisper-1\", audio_file)\n",
    "print(transcript)"
   ]
  },
  {
   "cell_type": "code",
   "execution_count": null,
   "id": "496c7026-4e2d-4c2f-9913-136b9cd6e40d",
   "metadata": {},
   "outputs": [],
   "source": [
    "\n",
    "# API\n",
    "print(\"\\n\\n---API---\\n\\n\")\n",
    "\n",
    "URL = \"https://api.openai.com/v1/audio/transcriptions\"\n",
    "\n",
    "headers = {\n",
    "    'Authorization': f'Bearer {key}'\n",
    "}\n",
    "files = {\n",
    "    \"file\": open(\"./research/m4/demos/quote.mp3\", \"rb\")\n",
    "}\n",
    "data = {\n",
    "    \"model\": \"whisper-1\"\n",
    "}\n",
    "\n",
    "response = requests.post(URL, headers=headers, files=files, data=data, timeout=20)\n",
    "result = response.json()\n",
    "\n",
    "if response:\n",
    "    print(json.dumps(result, indent=2))\n"
   ]
  }
 ],
 "metadata": {
  "kernelspec": {
   "display_name": "Python 3 (ipykernel)",
   "language": "python",
   "name": "python3"
  },
  "language_info": {
   "codemirror_mode": {
    "name": "ipython",
    "version": 3
   },
   "file_extension": ".py",
   "mimetype": "text/x-python",
   "name": "python",
   "nbconvert_exporter": "python",
   "pygments_lexer": "ipython3",
   "version": "3.9.1"
  }
 },
 "nbformat": 4,
 "nbformat_minor": 5
}
