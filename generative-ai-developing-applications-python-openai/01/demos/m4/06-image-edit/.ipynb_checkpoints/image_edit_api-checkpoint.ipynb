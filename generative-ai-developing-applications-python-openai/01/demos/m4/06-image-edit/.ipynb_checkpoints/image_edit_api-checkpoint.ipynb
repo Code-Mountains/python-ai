{
 "cells": [
  {
   "cell_type": "code",
   "execution_count": null,
   "id": "575ae492-f25e-4b19-b0a4-2f1bc395bf0d",
   "metadata": {},
   "outputs": [],
   "source": [
    "# Editing Images"
   ]
  },
  {
   "cell_type": "code",
   "execution_count": null,
   "id": "75191737-1e80-49b1-897a-20c5e2b1751b",
   "metadata": {},
   "outputs": [],
   "source": [
    "import json\n",
    "import os"
   ]
  },
  {
   "cell_type": "code",
   "execution_count": null,
   "id": "df480ac1-cf13-4112-b637-82486a16dbea",
   "metadata": {},
   "outputs": [],
   "source": [
    "# A recommended way to store the key is in an environment variable. For this demo, I am storing in a file.\n",
    "key_location = '/Users/xavier/github/xmorera/ps-generative-ai-developing-applications-python-openai/key/genaikey.txt'\n",
    "\n",
    "with open(key_location, 'r') as file:\n",
    "    key = file.readline().strip()"
   ]
  },
  {
   "cell_type": "code",
   "execution_count": null,
   "id": "b710de0e-2c86-4a58-9e33-d3d86b6f6169",
   "metadata": {},
   "outputs": [],
   "source": [
    "# Python Library\n",
    "print(\"\\n\\n---Python Library---\\n\\n\")\n",
    "\n",
    "library_response = openai.Image.create_edit(\n",
    "  image=open(\"./research/m4/demos/otter1.png\", \"rb\"),\n",
    "  mask=open(\"./research/m4/demos/mask1.png\", \"rb\"),\n",
    "  prompt=\"A cute baby sea otter wearing a beret\",\n",
    "  n=1,\n",
    "  size=\"1024x1024\"\n",
    ")\n",
    "image_url = library_response['data'][0]['url']\n",
    "print(image_url)\n",
    "\n"
   ]
  },
  {
   "cell_type": "code",
   "execution_count": null,
   "id": "08b024ee-40b3-4be6-9438-0c66a97f1478",
   "metadata": {},
   "outputs": [],
   "source": [
    "# API\n",
    "print(\"\\n\\n---API---\\n\\n\")\n",
    "\n",
    "URL = \"https://api.openai.com/v1/images/edits\"\n",
    "\n",
    "headers = {\n",
    "    'Authorization': f'Bearer {os.getenv(\"OPENAI_API_KEY\")}'\n",
    "}\n",
    "files = {\n",
    "    \"image\": open(\"./research/m4/demos/otter1.png\", \"rb\"),\n",
    "    \"mask\": open(\"./research/m4/demos/mask1.png\", \"rb\")\n",
    "}\n",
    "data = {\n",
    "    \"prompt\": \"A cute baby sea otter wearing a beret\",\n",
    "    \"n\": 1,\n",
    "    \"size\": \"1024x1024\"\n",
    "}\n",
    "\n",
    "response = requests.post(URL, headers=headers, files=files, data=data, timeout=20)\n",
    "\n",
    "if response.status_code == 200:\n",
    "    result = response.json()\n",
    "    print(json.dumps(result, indent=2))\n",
    "else:\n",
    "    print('Request failed with status code:', response.status_code)\n"
   ]
  }
 ],
 "metadata": {
  "kernelspec": {
   "display_name": "Python 3 (ipykernel)",
   "language": "python",
   "name": "python3"
  },
  "language_info": {
   "codemirror_mode": {
    "name": "ipython",
    "version": 3
   },
   "file_extension": ".py",
   "mimetype": "text/x-python",
   "name": "python",
   "nbconvert_exporter": "python",
   "pygments_lexer": "ipython3",
   "version": "3.9.1"
  }
 },
 "nbformat": 4,
 "nbformat_minor": 5
}
